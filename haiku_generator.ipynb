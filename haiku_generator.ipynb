{
 "cells": [
  {
   "cell_type": "code",
   "execution_count": 100,
   "metadata": {},
   "outputs": [],
   "source": [
    "import nltk\n",
    "#nltk.download() #provides information on nltk packages\n",
    "\n",
    "from nltk.corpus import cmudict # cmudict.dict()is a python dictionary in which key values correspond to a list of ways of pronouncing the word\n",
    "from nltk.corpus import words"
   ]
  },
  {
   "cell_type": "code",
   "execution_count": 56,
   "metadata": {},
   "outputs": [],
   "source": [
    "d = cmudict.dict() \n",
    "#d['sparrow']\n",
    "#d['apple']\n",
    "#d['biscuit']"
   ]
  },
  {
   "cell_type": "code",
   "execution_count": 57,
   "metadata": {},
   "outputs": [],
   "source": [
    "#based on how the dictionary determines the pronunciation of a word, we define a function \n",
    "#that determines the number of syllables that are present in a word."
   ]
  },
  {
   "cell_type": "code",
   "execution_count": 74,
   "metadata": {},
   "outputs": [],
   "source": [
    "def num_syllables(word):\n",
    "    return [len(list(y for y in x if y[-1].isdigit())) for x in d[word.lower()]]"
   ]
  },
  {
   "cell_type": "code",
   "execution_count": 75,
   "metadata": {},
   "outputs": [
    {
     "name": "stdout",
     "output_type": "stream",
     "text": [
      "[2, 2] [1] [4, 4]\n"
     ]
    }
   ],
   "source": [
    "word_one = num_syllables(\"hello\")\n",
    "word_two = num_syllables(\"train\")\n",
    "word_three = num_syllables(\"exponential\")\n",
    "word_four = num_syllables(\"magnanimous\")\n",
    "print (word_one, word_two, word_three)"
   ]
  },
  {
   "cell_type": "code",
   "execution_count": null,
   "metadata": {},
   "outputs": [],
   "source": [
    "#create a dictionary that maps an integer to a list of words that have the same number of syllables"
   ]
  },
  {
   "cell_type": "code",
   "execution_count": 79,
   "metadata": {},
   "outputs": [],
   "source": [
    "dict_of_syllables = {} # d2 = dict()\n",
    "for word in d.keys():\n",
    "    n = num_syllables(word)\n",
    "    n = n[0] #in case there is more than one way of pronouncing the word, the first one is chosen\n",
    "    try:\n",
    "        dict_of_syllables[n].append(word)\n",
    "    except:\n",
    "        dict_of_syllables[n] = [word]"
   ]
  },
  {
   "cell_type": "code",
   "execution_count": 80,
   "metadata": {},
   "outputs": [
    {
     "name": "stdout",
     "output_type": "stream",
     "text": [
      "[2]\n"
     ]
    }
   ],
   "source": [
    "dict_of_syllables[2]\n",
    "nums = num_syllables('sonji')\n",
    "print (nums)"
   ]
  },
  {
   "cell_type": "code",
   "execution_count": 92,
   "metadata": {},
   "outputs": [
    {
     "name": "stdout",
     "output_type": "stream",
     "text": [
      "antidisestablishmentarianism\n"
     ]
    }
   ],
   "source": [
    "#print the word corresponding to a key\n",
    "dict_of_syllables.keys()\n",
    "print (dict_of_syllables[12][0])"
   ]
  },
  {
   "cell_type": "code",
   "execution_count": 91,
   "metadata": {},
   "outputs": [
    {
     "name": "stdout",
     "output_type": "stream",
     "text": [
      "1: 16240\n",
      "6: 722\n",
      "3: 33850\n",
      "2: 56982\n",
      "4: 12132\n",
      "5: 3398\n",
      "7: 108\n",
      "12: 1\n",
      "8: 15\n",
      "9: 2\n",
      "0: 4\n",
      "14: 1\n"
     ]
    }
   ],
   "source": [
    "#list out the number of words for each key value\n",
    "for n in dict_of_syllables.keys():\n",
    "    print (str(n)+\": \"+str(len(dict_of_syllables[n])))"
   ]
  },
  {
   "cell_type": "code",
   "execution_count": 83,
   "metadata": {},
   "outputs": [],
   "source": [
    "#returns a list of random integers that sum up to n\n",
    "import random\n",
    "# print random.randint(0,5)\n",
    "def syl_Pattern(n):\n",
    "    l = []\n",
    "    while n > 0:\n",
    "        x = random.randint(1,5)\n",
    "        if x <= n:\n",
    "            l.append(x)\n",
    "            n = n - x\n",
    "    return l\n"
   ]
  },
  {
   "cell_type": "code",
   "execution_count": 84,
   "metadata": {},
   "outputs": [
    {
     "name": "stdout",
     "output_type": "stream",
     "text": [
      "[3, 3, 1, 1, 1, 1, 1, 1]\n",
      "True\n"
     ]
    }
   ],
   "source": [
    "#example\n",
    "x = syl_Pattern(12)\n",
    "print (x)\n",
    "print (sum(x) == 12)"
   ]
  },
  {
   "cell_type": "code",
   "execution_count": 93,
   "metadata": {},
   "outputs": [],
   "source": [
    "#returns a randfom word with n syllables\n",
    "def randWord(n):\n",
    "    words = dict_of_syllables[n]\n",
    "    N = len(words)\n",
    "    return dict_of_syllables[n][random.randint(0,N)]"
   ]
  },
  {
   "cell_type": "code",
   "execution_count": 94,
   "metadata": {},
   "outputs": [
    {
     "name": "stdout",
     "output_type": "stream",
     "text": [
      "[5]\n"
     ]
    }
   ],
   "source": [
    "randWord(5)\n",
    "print (num_syllables('determination'))"
   ]
  },
  {
   "cell_type": "code",
   "execution_count": 95,
   "metadata": {},
   "outputs": [],
   "source": [
    "# returns a line(sentence) consisting of k syllables\n",
    "def randLine(k):\n",
    "    l = syl_Pattern(k)\n",
    "    line = \"\"\n",
    "    for i in l:\n",
    "        word = randWord(i)\n",
    "        line += word + \" \"\n",
    "    line += \"\\n\"\n",
    "    return line"
   ]
  },
  {
   "cell_type": "code",
   "execution_count": 96,
   "metadata": {},
   "outputs": [
    {
     "name": "stdout",
     "output_type": "stream",
     "text": [
      "[4, 3, 3]\n",
      "[1]\n"
     ]
    }
   ],
   "source": [
    "#randLine(5)\n",
    "print (num_syllables('casualties'))\n",
    "print (num_syllables('kiel'))"
   ]
  },
  {
   "cell_type": "code",
   "execution_count": null,
   "metadata": {},
   "outputs": [],
   "source": [
    "#define the function that generates haiku"
   ]
  },
  {
   "cell_type": "code",
   "execution_count": 97,
   "metadata": {},
   "outputs": [],
   "source": [
    "\n",
    "def create_haiku():\n",
    "    return randLine(5)+randLine(7)+randLine(5)"
   ]
  },
  {
   "cell_type": "code",
   "execution_count": 99,
   "metadata": {},
   "outputs": [
    {
     "name": "stdout",
     "output_type": "stream",
     "text": [
      "semiconductor \n",
      "marion's speiser hainer \n",
      "insubordinate \n",
      "\n"
     ]
    }
   ],
   "source": [
    "print (create_haiku())"
   ]
  },
  {
   "cell_type": "code",
   "execution_count": null,
   "metadata": {},
   "outputs": [],
   "source": []
  },
  {
   "cell_type": "code",
   "execution_count": null,
   "metadata": {},
   "outputs": [],
   "source": []
  }
 ],
 "metadata": {
  "kernelspec": {
   "display_name": "Python 3",
   "language": "python",
   "name": "python3"
  },
  "language_info": {
   "codemirror_mode": {
    "name": "ipython",
    "version": 3
   },
   "file_extension": ".py",
   "mimetype": "text/x-python",
   "name": "python",
   "nbconvert_exporter": "python",
   "pygments_lexer": "ipython3",
   "version": "3.7.3"
  }
 },
 "nbformat": 4,
 "nbformat_minor": 2
}
