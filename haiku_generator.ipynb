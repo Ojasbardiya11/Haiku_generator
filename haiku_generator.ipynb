{
 "cells": [
  {
   "cell_type": "code",
   "execution_count": 20,
   "metadata": {},
   "outputs": [],
   "source": [
    "import nltk\n",
    "#nltk.download()\n",
    "\n",
    "from nltk.corpus import cmudict\n",
    "from nltk.corpus import words"
   ]
  },
  {
   "cell_type": "code",
   "execution_count": 21,
   "metadata": {},
   "outputs": [
    {
     "data": {
      "text/plain": [
       "[['F', 'AO1', 'N']]"
      ]
     },
     "execution_count": 21,
     "metadata": {},
     "output_type": "execute_result"
    }
   ],
   "source": [
    "d = cmudict.dict()\n",
    "d['fawn']"
   ]
  },
  {
   "cell_type": "code",
   "execution_count": 22,
   "metadata": {},
   "outputs": [],
   "source": [
    "def nsyl(word):\n",
    "    return [len(list(y for y in x if y[-1].isdigit())) for x in d[word.lower()]]"
   ]
  },
  {
   "cell_type": "code",
   "execution_count": 27,
   "metadata": {},
   "outputs": [
    {
     "name": "stdout",
     "output_type": "stream",
     "text": [
      "[2, 2] [2]\n"
     ]
    }
   ],
   "source": [
    "p = nsyl(\"hello\")\n",
    "q = nsyl(\"goodbye\")\n",
    "print (p, q)"
   ]
  },
  {
   "cell_type": "code",
   "execution_count": 28,
   "metadata": {},
   "outputs": [],
   "source": [
    "d2 = {} # d2 = dict()\n",
    "for word in d.keys():\n",
    "    n = nsyl(word)\n",
    "    n = n[0]\n",
    "    try:\n",
    "        d2[n].append(word)\n",
    "    except:\n",
    "        d2[n] = [word]"
   ]
  },
  {
   "cell_type": "code",
   "execution_count": 30,
   "metadata": {},
   "outputs": [
    {
     "name": "stdout",
     "output_type": "stream",
     "text": [
      "[2]\n"
     ]
    }
   ],
   "source": [
    "d2[2]\n",
    "num_syl = nsyl('sonji')\n",
    "print (num_syl)"
   ]
  },
  {
   "cell_type": "code",
   "execution_count": 32,
   "metadata": {},
   "outputs": [
    {
     "name": "stdout",
     "output_type": "stream",
     "text": [
      "supercalifragilisticexpealidoshus\n"
     ]
    }
   ],
   "source": [
    "d2.keys()\n",
    "print (d2[14][0])"
   ]
  },
  {
   "cell_type": "code",
   "execution_count": 34,
   "metadata": {},
   "outputs": [
    {
     "name": "stdout",
     "output_type": "stream",
     "text": [
      "1: 16240\n",
      "6: 722\n",
      "3: 33850\n",
      "2: 56982\n",
      "4: 12132\n",
      "5: 3398\n",
      "7: 108\n",
      "12: 1\n",
      "8: 15\n",
      "9: 2\n",
      "0: 4\n",
      "14: 1\n"
     ]
    }
   ],
   "source": [
    "for n in d2.keys():\n",
    "    print (str(n)+\": \"+str(len(d2[n])))"
   ]
  },
  {
   "cell_type": "code",
   "execution_count": 35,
   "metadata": {},
   "outputs": [],
   "source": [
    "import random\n",
    "# print random.randint(0,5)\n",
    "def sylPattern(n):\n",
    "    l = []\n",
    "    while n > 0:\n",
    "        x = random.randint(1,5)\n",
    "        if x <= n:\n",
    "            l.append(x)\n",
    "            n = n - x\n",
    "    return l\n"
   ]
  },
  {
   "cell_type": "code",
   "execution_count": 38,
   "metadata": {},
   "outputs": [
    {
     "name": "stdout",
     "output_type": "stream",
     "text": [
      "[2, 1, 1, 5, 5, 1]\n",
      "True\n"
     ]
    }
   ],
   "source": [
    "x = sylPattern(15)\n",
    "print (x)\n",
    "print (sum(x) == 15)"
   ]
  },
  {
   "cell_type": "code",
   "execution_count": 39,
   "metadata": {},
   "outputs": [],
   "source": [
    "def randWord(n):\n",
    "    words = d2[n]\n",
    "    N = len(words)\n",
    "    return d2[n][random.randint(0,N)]"
   ]
  },
  {
   "cell_type": "code",
   "execution_count": 40,
   "metadata": {},
   "outputs": [
    {
     "name": "stdout",
     "output_type": "stream",
     "text": [
      "[5]\n"
     ]
    }
   ],
   "source": [
    "randWord(5)\n",
    "print (nsyl('reinvigorate'))"
   ]
  },
  {
   "cell_type": "code",
   "execution_count": 41,
   "metadata": {},
   "outputs": [],
   "source": [
    "# Your code here\n",
    "def randLine(n):\n",
    "    l = sylPattern(n)\n",
    "    line = \"\"\n",
    "    for i in l:\n",
    "        word = randWord(i)\n",
    "        line += word + \" \"\n",
    "    line += \"\\n\"\n",
    "    return line"
   ]
  },
  {
   "cell_type": "code",
   "execution_count": 42,
   "metadata": {},
   "outputs": [
    {
     "name": "stdout",
     "output_type": "stream",
     "text": [
      "[4, 3, 3]\n",
      "[1]\n"
     ]
    }
   ],
   "source": [
    "#randLine(5)\n",
    "print (nsyl('casualties'))\n",
    "print (nsyl('kiel'))"
   ]
  },
  {
   "cell_type": "code",
   "execution_count": 43,
   "metadata": {},
   "outputs": [],
   "source": [
    "# Your code here\n",
    "def haiku():\n",
    "    return randLine(5)+randLine(7)+randLine(5)"
   ]
  },
  {
   "cell_type": "code",
   "execution_count": 47,
   "metadata": {},
   "outputs": [
    {
     "name": "stdout",
     "output_type": "stream",
     "text": [
      "items predictions \n",
      "seidel shootdown lattner ads \n",
      "activision hart \n",
      "\n"
     ]
    }
   ],
   "source": [
    "print (haiku())"
   ]
  },
  {
   "cell_type": "code",
   "execution_count": null,
   "metadata": {},
   "outputs": [],
   "source": []
  },
  {
   "cell_type": "code",
   "execution_count": null,
   "metadata": {},
   "outputs": [],
   "source": []
  }
 ],
 "metadata": {
  "kernelspec": {
   "display_name": "Python 3",
   "language": "python",
   "name": "python3"
  },
  "language_info": {
   "codemirror_mode": {
    "name": "ipython",
    "version": 3
   },
   "file_extension": ".py",
   "mimetype": "text/x-python",
   "name": "python",
   "nbconvert_exporter": "python",
   "pygments_lexer": "ipython3",
   "version": "3.7.3"
  }
 },
 "nbformat": 4,
 "nbformat_minor": 2
}
